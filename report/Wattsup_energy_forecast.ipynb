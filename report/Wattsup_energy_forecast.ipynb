{
 "cells": [
  {
   "cell_type": "markdown",
   "metadata": {},
   "source": [
    "This notebook is a merged notebook in chronological order of the code in `./src`"
   ]
  },
  {
   "cell_type": "markdown",
   "metadata": {},
   "source": [
    "Exploring the Impacts of Residential And Commercial Solar Power Production on Grid Demand\n",
    "-------\n",
    "team: Group G – Watt’s Up Down Under\n",
    "session: Hexamester 2, 2024\n",
    "coursecode: ZZSC9020\n",
    "author: \n",
    "- Bernard Lo (z3464235)\n",
    "- Andrew Ryan (z2251397)\n",
    "- Chadi Abi Fadel (z5442788)\n",
    "- Joshua Evans (z5409600)\n",
    "\n",
    "\n",
    "# Abstract\n",
    "\n",
    "There is a well-known relationship between electricity demand and temperature in the electricity industry, most commercial power suppliers use temperature to forecast energy demand. More and more Australian homes are considering adding solar panels as a source of renewable energy, the team is interested in whether adding solar power as another variable will improve the accuracy of the model that is currently being used. By using convolutional neural network (CNN) and long short-term memory (LSTM) models, we improved the accuracy of the energy forecasting by implementing the solar power output dataset along with the temperature dataset that were originally used. Using temperature and solar power datasets from 2017 to 2021, the team concluded that both CNN and LSTM modelling techniques provided more accurate energy forecasting and comparing both models, LSTM is the superior model over CNN. The findings from this experiment suggested that energy providers should consider implementing datasets from various renewable sources to improve its modelling accuracy in order to improve energy pricing and reduce wastage.  \n"
   ]
  },
  {
   "cell_type": "code",
   "execution_count": null,
   "metadata": {},
   "outputs": [],
   "source": []
  },
  {
   "cell_type": "markdown",
   "metadata": {},
   "source": [
    "# Material and Methods\n",
    "\n",
    "A Jupyter notebook describing the steps taken in our analysis can be found in `~/report/Wattsup_energy_forecast.ipynb`. Following is a description.\n",
    "## Loading the given dataset\n",
    "**Chadi to complete**\n",
    "Python was used to extract, transform and to load the data (ETL) into our notebook for further Exploratory Data Analysis (EDA) and modelling.\n",
    "Unzipping programmatically ensures the repeatability of the data extraction process while ensuring that no human errors were introduced in the process as the number of files grows\n",
    "- unzip\n",
    "-\n",
    "\n",
    "## Refactoring and simplifying the code\n",
    "**Chadi to complete**\n",
    "\n",
    "## Scraping PV data\n",
    "**Chadi to complete**\n",
    "\n",
    "_R and Python of course are great software for Data Science. Sometimes, you might want to use `bash` utilities such as `awk` or `sed`._\n",
    "\n",
    "_Of course, to ensure reproducibility, you should use something like `Git` and RMarkdown (or a Jupyter Notebook). Do **not** use Word!_\n",
    "\n"
   ]
  },
  {
   "cell_type": "code",
   "execution_count": null,
   "metadata": {},
   "outputs": [],
   "source": []
  },
  {
   "cell_type": "markdown",
   "metadata": {},
   "source": [
    "\n",
    "## Description of the Data\n",
    "Bernard to complete\n",
    "How are the data stored? What are the sizes of the data files? How many files? etc.\n",
    "\n",
    "\n",
    "\n",
    "## Pre-processing Steps\n",
    "Andrew Ryan to complete\n",
    "What did you have to do to transform the data so that they become useable?\n",
    "\n",
    "Step 1:Unzip the files and import the data\n",
    "Steo 2: Check for duplicate data records\n",
    "Step 2:visualise\n",
    "\n",
    "<!---\n",
    "![alt text](duplicate_check_victoria-1.png)\n",
    "--->\n",
    "\n",
    "\n",
    "## Data Cleaning\n",
    "Andrew Ryan to complete\n",
    "How did you deal with missing data? etc. \n",
    "\n",
    "## Assumptions\n",
    "\n",
    "What assumptions are you making on the data?\n",
    "\n",
    "## Modelling Methods\n",
    "\n",
    "# Exploratory Data Analysis\n",
    "\n",
    "This is where you explore your data using histograms, scatterplots, boxplots, numerical summaries, etc.\n",
    "\n",
    "\n",
    "\n",
    "# Analysis and Results\n",
    "\n",
    "## A First Model\n",
    "\n",
    "Having a very simple model is always good so that you can benchmark any result you would obtain with a more elaborate model.\n",
    "\n",
    "\\bigskip\n",
    "\n",
    "For example, one can use the linear regression model\n",
    "\n",
    "$$\n",
    "Y_i = \\beta_0 + \\beta_1 x_{1i} + \\cdots \\beta_p x_{pi} + \\epsilon_i, \\qquad i=1,\\ldots,n.\n",
    "$$\n",
    "where it is assumed that the $\\epsilon_i$'s are i.i.d.\\ $N(0,1)$.\n",
    "\n",
    "# Discussion\n",
    "\n",
    "Put the results you got in the previous chapter in perspective with respect to the problem studied.\n",
    "\n"
   ]
  },
  {
   "cell_type": "code",
   "execution_count": null,
   "metadata": {},
   "outputs": [],
   "source": []
  }
 ],
 "metadata": {
  "kernelspec": {
   "display_name": "Python 3 (ipykernel)",
   "language": "python",
   "name": "python3"
  },
  "language_info": {
   "codemirror_mode": {
    "name": "ipython",
    "version": 3
   },
   "file_extension": ".py",
   "mimetype": "text/x-python",
   "name": "python",
   "nbconvert_exporter": "python",
   "pygments_lexer": "ipython3",
   "version": "3.11.8"
  }
 },
 "nbformat": 4,
 "nbformat_minor": 4
}
